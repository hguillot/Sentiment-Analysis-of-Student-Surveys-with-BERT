{
  "nbformat": 4,
  "nbformat_minor": 0,
  "metadata": {
    "colab": {
      "name": "Untitled5.ipynb",
      "provenance": []
    },
    "kernelspec": {
      "name": "python3",
      "display_name": "Python 3"
    },
    "language_info": {
      "name": "python"
    }
  },
  "cells": [
    {
      "cell_type": "code",
      "metadata": {
        "colab": {
          "base_uri": "https://localhost:8080/"
        },
        "id": "duD2cPtOqg7x",
        "outputId": "3ab2ce3f-1a8a-4692-c5c7-1a4b8971bef4"
      },
      "source": [
        "!pip install PyDrive\n",
        "\n",
        "from pydrive.auth import GoogleAuth\n",
        "from pydrive.drive import GoogleDrive\n",
        "from google.colab import auth\n",
        "from oauth2client.client import GoogleCredentials\n",
        "\n",
        "auth.authenticate_user()\n",
        "gauth = GoogleAuth()\n",
        "gauth.credentials = GoogleCredentials.get_application_default()\n",
        "drive = GoogleDrive(gauth)"
      ],
      "execution_count": 4,
      "outputs": [
        {
          "output_type": "stream",
          "text": [
            "Requirement already satisfied: PyDrive in /usr/local/lib/python3.7/dist-packages (1.3.1)\n",
            "Requirement already satisfied: PyYAML>=3.0 in /usr/local/lib/python3.7/dist-packages (from PyDrive) (3.13)\n",
            "Requirement already satisfied: google-api-python-client>=1.2 in /usr/local/lib/python3.7/dist-packages (from PyDrive) (1.12.8)\n",
            "Requirement already satisfied: oauth2client>=4.0.0 in /usr/local/lib/python3.7/dist-packages (from PyDrive) (4.1.3)\n",
            "Requirement already satisfied: google-auth>=1.16.0 in /usr/local/lib/python3.7/dist-packages (from google-api-python-client>=1.2->PyDrive) (1.28.1)\n",
            "Requirement already satisfied: six<2dev,>=1.13.0 in /usr/local/lib/python3.7/dist-packages (from google-api-python-client>=1.2->PyDrive) (1.15.0)\n",
            "Requirement already satisfied: google-auth-httplib2>=0.0.3 in /usr/local/lib/python3.7/dist-packages (from google-api-python-client>=1.2->PyDrive) (0.0.4)\n",
            "Requirement already satisfied: uritemplate<4dev,>=3.0.0 in /usr/local/lib/python3.7/dist-packages (from google-api-python-client>=1.2->PyDrive) (3.0.1)\n",
            "Requirement already satisfied: httplib2<1dev,>=0.15.0 in /usr/local/lib/python3.7/dist-packages (from google-api-python-client>=1.2->PyDrive) (0.17.4)\n",
            "Requirement already satisfied: google-api-core<2dev,>=1.21.0 in /usr/local/lib/python3.7/dist-packages (from google-api-python-client>=1.2->PyDrive) (1.26.3)\n",
            "Requirement already satisfied: pyasn1-modules>=0.0.5 in /usr/local/lib/python3.7/dist-packages (from oauth2client>=4.0.0->PyDrive) (0.2.8)\n",
            "Requirement already satisfied: rsa>=3.1.4 in /usr/local/lib/python3.7/dist-packages (from oauth2client>=4.0.0->PyDrive) (4.7.2)\n",
            "Requirement already satisfied: pyasn1>=0.1.7 in /usr/local/lib/python3.7/dist-packages (from oauth2client>=4.0.0->PyDrive) (0.4.8)\n",
            "Requirement already satisfied: cachetools<5.0,>=2.0.0 in /usr/local/lib/python3.7/dist-packages (from google-auth>=1.16.0->google-api-python-client>=1.2->PyDrive) (4.2.1)\n",
            "Requirement already satisfied: setuptools>=40.3.0 in /usr/local/lib/python3.7/dist-packages (from google-auth>=1.16.0->google-api-python-client>=1.2->PyDrive) (56.0.0)\n",
            "Requirement already satisfied: pytz in /usr/local/lib/python3.7/dist-packages (from google-api-core<2dev,>=1.21.0->google-api-python-client>=1.2->PyDrive) (2018.9)\n",
            "Requirement already satisfied: googleapis-common-protos<2.0dev,>=1.6.0 in /usr/local/lib/python3.7/dist-packages (from google-api-core<2dev,>=1.21.0->google-api-python-client>=1.2->PyDrive) (1.53.0)\n",
            "Requirement already satisfied: packaging>=14.3 in /usr/local/lib/python3.7/dist-packages (from google-api-core<2dev,>=1.21.0->google-api-python-client>=1.2->PyDrive) (20.9)\n",
            "Requirement already satisfied: protobuf>=3.12.0 in /usr/local/lib/python3.7/dist-packages (from google-api-core<2dev,>=1.21.0->google-api-python-client>=1.2->PyDrive) (3.12.4)\n",
            "Requirement already satisfied: requests<3.0.0dev,>=2.18.0 in /usr/local/lib/python3.7/dist-packages (from google-api-core<2dev,>=1.21.0->google-api-python-client>=1.2->PyDrive) (2.23.0)\n",
            "Requirement already satisfied: pyparsing>=2.0.2 in /usr/local/lib/python3.7/dist-packages (from packaging>=14.3->google-api-core<2dev,>=1.21.0->google-api-python-client>=1.2->PyDrive) (2.4.7)\n",
            "Requirement already satisfied: urllib3!=1.25.0,!=1.25.1,<1.26,>=1.21.1 in /usr/local/lib/python3.7/dist-packages (from requests<3.0.0dev,>=2.18.0->google-api-core<2dev,>=1.21.0->google-api-python-client>=1.2->PyDrive) (1.24.3)\n",
            "Requirement already satisfied: certifi>=2017.4.17 in /usr/local/lib/python3.7/dist-packages (from requests<3.0.0dev,>=2.18.0->google-api-core<2dev,>=1.21.0->google-api-python-client>=1.2->PyDrive) (2020.12.5)\n",
            "Requirement already satisfied: chardet<4,>=3.0.2 in /usr/local/lib/python3.7/dist-packages (from requests<3.0.0dev,>=2.18.0->google-api-core<2dev,>=1.21.0->google-api-python-client>=1.2->PyDrive) (3.0.4)\n",
            "Requirement already satisfied: idna<3,>=2.5 in /usr/local/lib/python3.7/dist-packages (from requests<3.0.0dev,>=2.18.0->google-api-core<2dev,>=1.21.0->google-api-python-client>=1.2->PyDrive) (2.10)\n"
          ],
          "name": "stdout"
        }
      ]
    },
    {
      "cell_type": "code",
      "metadata": {
        "id": "XO1vZZE6sOLE"
      },
      "source": [
        "#https://drive.google.com/file/d/1SwYgrNYWGeHajQp1sB4-BEzEsozr44JX/view?usp=sharing\n",
        "downloaded = drive.CreateFile({'id':\"1SwYgrNYWGeHajQp1sB4-BEzEsozr44JX\"})   # replace the id with id of file you want to access\n",
        "downloaded.GetContentFile('assin2-train-only.xml') "
      ],
      "execution_count": 5,
      "outputs": []
    },
    {
      "cell_type": "code",
      "metadata": {
        "id": "T-dHC6QI6Up0"
      },
      "source": [
        "from xml.dom import minidom\n",
        "\n",
        "# parse an xml file by name\n",
        "mydoc = minidom.parse('assin2-train-only.xml')\n",
        "\n",
        "item1 = []\n",
        "item2 = []\n",
        "entailment = []\n",
        "similarity = []\n",
        "\n",
        "items = mydoc.getElementsByTagName('pair')\n",
        "for i in range(items.length):\n",
        "  item1.append(items[i].childNodes[1].firstChild.data)\n",
        "  item2.append(items[i].childNodes[3].firstChild.data)\n",
        "  entailment.append(items[i].attributes[\"entailment\"].value)\n",
        "  similarity.append(items[i].attributes[\"similarity\"].value)\n"
      ],
      "execution_count": 46,
      "outputs": []
    },
    {
      "cell_type": "code",
      "metadata": {
        "colab": {
          "base_uri": "https://localhost:8080/",
          "height": 399
        },
        "id": "aEnXf7hXVAnP",
        "outputId": "e3dedd64-69ae-42aa-df5c-a4f90182d99b"
      },
      "source": [
        "import pandas as pd\n",
        "data = {'item1':  item1,\n",
        "        'item2': item2,\n",
        "        'entailment': entailment,\n",
        "        'similarity': similarity}\n",
        "\n",
        "df = pd.DataFrame (data, columns = ['item1','item2','entailment','similarity'])\n",
        "\n",
        "df"
      ],
      "execution_count": 49,
      "outputs": [
        {
          "output_type": "execute_result",
          "data": {
            "text/html": [
              "<div>\n",
              "<style scoped>\n",
              "    .dataframe tbody tr th:only-of-type {\n",
              "        vertical-align: middle;\n",
              "    }\n",
              "\n",
              "    .dataframe tbody tr th {\n",
              "        vertical-align: top;\n",
              "    }\n",
              "\n",
              "    .dataframe thead th {\n",
              "        text-align: right;\n",
              "    }\n",
              "</style>\n",
              "<table border=\"1\" class=\"dataframe\">\n",
              "  <thead>\n",
              "    <tr style=\"text-align: right;\">\n",
              "      <th></th>\n",
              "      <th>item1</th>\n",
              "      <th>item2</th>\n",
              "      <th>entailment</th>\n",
              "      <th>similarity</th>\n",
              "    </tr>\n",
              "  </thead>\n",
              "  <tbody>\n",
              "    <tr>\n",
              "      <th>0</th>\n",
              "      <td>Uma criança risonha está segurando uma pistola...</td>\n",
              "      <td>Uma criança está segurando uma pistola de água</td>\n",
              "      <td>Entailment</td>\n",
              "      <td>4.5</td>\n",
              "    </tr>\n",
              "    <tr>\n",
              "      <th>1</th>\n",
              "      <td>Os homens estão cuidadosamente colocando as ma...</td>\n",
              "      <td>Os homens estão colocando bagagens dentro do p...</td>\n",
              "      <td>Entailment</td>\n",
              "      <td>4.5</td>\n",
              "    </tr>\n",
              "    <tr>\n",
              "      <th>2</th>\n",
              "      <td>Uma pessoa tem cabelo loiro e esvoaçante e est...</td>\n",
              "      <td>Um guitarrista tem cabelo loiro e esvoaçante</td>\n",
              "      <td>Entailment</td>\n",
              "      <td>4.7</td>\n",
              "    </tr>\n",
              "    <tr>\n",
              "      <th>3</th>\n",
              "      <td>Batatas estão sendo fatiadas por um homem</td>\n",
              "      <td>O homem está fatiando a batata</td>\n",
              "      <td>Entailment</td>\n",
              "      <td>4.7</td>\n",
              "    </tr>\n",
              "    <tr>\n",
              "      <th>4</th>\n",
              "      <td>Um caminhão está descendo rapidamente um morro</td>\n",
              "      <td>Um caminhão está rapidamente descendo o morro</td>\n",
              "      <td>Entailment</td>\n",
              "      <td>4.9</td>\n",
              "    </tr>\n",
              "    <tr>\n",
              "      <th>...</th>\n",
              "      <td>...</td>\n",
              "      <td>...</td>\n",
              "      <td>...</td>\n",
              "      <td>...</td>\n",
              "    </tr>\n",
              "    <tr>\n",
              "      <th>6495</th>\n",
              "      <td>Um homem está apaixonadamente tocando um violão</td>\n",
              "      <td>Um homem está guardando um violão</td>\n",
              "      <td>None</td>\n",
              "      <td>3.3</td>\n",
              "    </tr>\n",
              "    <tr>\n",
              "      <th>6496</th>\n",
              "      <td>Um pimentão está sendo cortado em pedaços por ...</td>\n",
              "      <td>A pessoa está fatiando um dente de alho em ped...</td>\n",
              "      <td>None</td>\n",
              "      <td>2.8</td>\n",
              "    </tr>\n",
              "    <tr>\n",
              "      <th>6497</th>\n",
              "      <td>Um cachorro, que é preto, e um branco estão en...</td>\n",
              "      <td>Um cachorro, que é preto, e um branco estão ig...</td>\n",
              "      <td>None</td>\n",
              "      <td>3.6</td>\n",
              "    </tr>\n",
              "    <tr>\n",
              "      <th>6498</th>\n",
              "      <td>Alguns animais estão brincando na água</td>\n",
              "      <td>Um jogador de pingue-pongue encontra-se com du...</td>\n",
              "      <td>None</td>\n",
              "      <td>1</td>\n",
              "    </tr>\n",
              "    <tr>\n",
              "      <th>6499</th>\n",
              "      <td>A bola de futebol está entre os pés de um meni...</td>\n",
              "      <td>Não tem nenhuma criança pequena jogando futebo...</td>\n",
              "      <td>None</td>\n",
              "      <td>3</td>\n",
              "    </tr>\n",
              "  </tbody>\n",
              "</table>\n",
              "<p>6500 rows × 4 columns</p>\n",
              "</div>"
            ],
            "text/plain": [
              "                                                  item1  ... similarity\n",
              "0     Uma criança risonha está segurando uma pistola...  ...        4.5\n",
              "1     Os homens estão cuidadosamente colocando as ma...  ...        4.5\n",
              "2     Uma pessoa tem cabelo loiro e esvoaçante e est...  ...        4.7\n",
              "3             Batatas estão sendo fatiadas por um homem  ...        4.7\n",
              "4        Um caminhão está descendo rapidamente um morro  ...        4.9\n",
              "...                                                 ...  ...        ...\n",
              "6495    Um homem está apaixonadamente tocando um violão  ...        3.3\n",
              "6496  Um pimentão está sendo cortado em pedaços por ...  ...        2.8\n",
              "6497  Um cachorro, que é preto, e um branco estão en...  ...        3.6\n",
              "6498             Alguns animais estão brincando na água  ...          1\n",
              "6499  A bola de futebol está entre os pés de um meni...  ...          3\n",
              "\n",
              "[6500 rows x 4 columns]"
            ]
          },
          "metadata": {
            "tags": []
          },
          "execution_count": 49
        }
      ]
    }
  ]
}